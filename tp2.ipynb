{
 "cells": [
  {
   "cell_type": "code",
   "execution_count": 7,
   "id": "8e6a5643",
   "metadata": {},
   "outputs": [
    {
     "name": "stdout",
     "output_type": "stream",
     "text": [
      "--- 5 Baris Pertama ---\n",
      "   Age  Gender  Weight (kg)  Height (m)  Max_BPM  Avg_BPM  Resting_BPM  \\\n",
      "0   56    Male         88.3        1.71      180      157           60   \n",
      "1   46  Female         74.9        1.53      179      151           66   \n",
      "2   32  Female         68.1        1.66      167      122           54   \n",
      "3   25    Male         53.2        1.70      190      164           56   \n",
      "4   38    Male         46.1        1.79      188      158           68   \n",
      "\n",
      "   Session_Duration (hours)  Calories_Burned Workout_Type  Fat_Percentage  \\\n",
      "0                      1.69           1313.0         Yoga            12.6   \n",
      "1                      1.30            883.0         HIIT            33.9   \n",
      "2                      1.11            677.0       Cardio            33.4   \n",
      "3                      0.59            532.0     Strength            28.8   \n",
      "4                      0.64            556.0     Strength            29.2   \n",
      "\n",
      "   Water_Intake (liters)  Workout_Frequency (days/week)  Experience_Level  \\\n",
      "0                    3.5                              4                 3   \n",
      "1                    2.1                              4                 2   \n",
      "2                    2.3                              4                 2   \n",
      "3                    2.1                              3                 1   \n",
      "4                    2.8                              3                 1   \n",
      "\n",
      "     BMI  \n",
      "0  30.20  \n",
      "1  32.00  \n",
      "2  24.71  \n",
      "3  18.41  \n",
      "4  14.39  \n",
      "\n",
      "--- Nama Kolom ---\n",
      "Index(['Age', 'Gender', 'Weight (kg)', 'Height (m)', 'Max_BPM', 'Avg_BPM',\n",
      "       'Resting_BPM', 'Session_Duration (hours)', 'Calories_Burned',\n",
      "       'Workout_Type', 'Fat_Percentage', 'Water_Intake (liters)',\n",
      "       'Workout_Frequency (days/week)', 'Experience_Level', 'BMI'],\n",
      "      dtype='object')\n"
     ]
    }
   ],
   "source": [
    "import pandas as pd\n",
    "\n",
    "# Ganti dengan nama file dataset setelah di-download\n",
    "df = pd.read_csv(\"gym_members_exercise_tracking.csv\")  # contoh nama file\n",
    "\n",
    "print(\"--- 5 Baris Pertama ---\")\n",
    "print(df.head())\n",
    "\n",
    "print(\"\\n--- Nama Kolom ---\")\n",
    "print(df.columns)"
   ]
  }
 ],
 "metadata": {
  "kernelspec": {
   "display_name": "Python 3",
   "language": "python",
   "name": "python3"
  },
  "language_info": {
   "codemirror_mode": {
    "name": "ipython",
    "version": 3
   },
   "file_extension": ".py",
   "mimetype": "text/x-python",
   "name": "python",
   "nbconvert_exporter": "python",
   "pygments_lexer": "ipython3",
   "version": "3.11.0"
  }
 },
 "nbformat": 4,
 "nbformat_minor": 5
}
